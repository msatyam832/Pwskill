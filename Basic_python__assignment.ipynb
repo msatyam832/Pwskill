{
  "nbformat": 4,
  "nbformat_minor": 0,
  "metadata": {
    "colab": {
      "provenance": [],
      "toc_visible": true,
      "authorship_tag": "ABX9TyMsIi/fZEPbVOrQ+A2I9j9e",
      "include_colab_link": true
    },
    "kernelspec": {
      "name": "python3",
      "display_name": "Python 3"
    },
    "language_info": {
      "name": "python"
    }
  },
  "cells": [
    {
      "cell_type": "markdown",
      "metadata": {
        "id": "view-in-github",
        "colab_type": "text"
      },
      "source": [
        "<a href=\"https://colab.research.google.com/github/msatyam832/Pwskill/blob/master/Basic_python__assignment.ipynb\" target=\"_parent\"><img src=\"https://colab.research.google.com/assets/colab-badge.svg\" alt=\"Open In Colab\"/></a>"
      ]
    },
    {
      "cell_type": "markdown",
      "source": [
        "#**TOPIC: Python Basics Variable**"
      ],
      "metadata": {
        "id": "Sl0vNMLTHWHs"
      }
    },
    {
      "cell_type": "markdown",
      "source": [
        "# 1. Declare two variables, `x` and `y`, and assign them integer values. Swap the values of these variables without using any temporary variable.\n",
        "\n"
      ],
      "metadata": {
        "id": "QQuY54WYHcNb"
      }
    },
    {
      "cell_type": "code",
      "source": [
        "x= 25\n",
        "y=56\n",
        "print(\"Before swapping\")\n",
        "print(\"x=\",x)\n",
        "print(\"y=\",y)\n",
        "x,y =y,x\n",
        "print(\"After swapping\")\n",
        "print(\"x=\",x)\n",
        "print(\"y=\",y)"
      ],
      "metadata": {
        "colab": {
          "base_uri": "https://localhost:8080/"
        },
        "id": "fCRXaotUHyjc",
        "outputId": "a2fd9d44-1adf-41f3-f610-44cd9749f933"
      },
      "execution_count": 3,
      "outputs": [
        {
          "output_type": "stream",
          "name": "stdout",
          "text": [
            "Before swapping\n",
            "x= 25\n",
            "y= 56\n",
            "After swapping\n",
            "x= 56\n",
            "y= 25\n"
          ]
        }
      ]
    },
    {
      "cell_type": "markdown",
      "source": [
        "#2. Create a program that calculates the area of a rectangle. Take the length and width as inputs from the user and store them in variables. Calculate and display the area."
      ],
      "metadata": {
        "id": "PKtVyEGxIxor"
      }
    },
    {
      "cell_type": "code",
      "source": [
        "length = int(input(\"Enter the lenth of rectangle = \"))\n",
        "width = int(input(\"Enter the width of rectangle = \"))\n",
        "area = length*width\n",
        "print(\"area of rectange\",area)"
      ],
      "metadata": {
        "colab": {
          "base_uri": "https://localhost:8080/"
        },
        "id": "ktIAruR0KMws",
        "outputId": "5e8264dd-050f-4e7b-a213-23a20a76e100"
      },
      "execution_count": 5,
      "outputs": [
        {
          "output_type": "stream",
          "name": "stdout",
          "text": [
            "Enter the lenth of rectangle = 2\n",
            "Enter the width of rectangle = 3\n",
            "area of rectange 6\n"
          ]
        }
      ]
    },
    {
      "cell_type": "markdown",
      "source": [
        "#3. Write a Python program that converts temperatures from Celsius toFahrenheit. Take the temperature in Celsius as input, store it in a variable,convert it to Fahrenheit, and display the result."
      ],
      "metadata": {
        "id": "ptDQDnYsLVEP"
      }
    },
    {
      "cell_type": "code",
      "source": [
        "celsius = int(input(\"Enter the celsius no =\"))\n",
        "fahrenheit = (celsius * 1.8) + 32\n",
        "\n",
        "print(\"fahrenheit = \",fahrenheit)\n"
      ],
      "metadata": {
        "colab": {
          "base_uri": "https://localhost:8080/"
        },
        "id": "5-uVmA_ILZmx",
        "outputId": "8486e7d7-a0b9-4b78-8b25-0b55c581a08a"
      },
      "execution_count": 4,
      "outputs": [
        {
          "output_type": "stream",
          "name": "stdout",
          "text": [
            "Enter the celsius no =47\n",
            "fahrenheit =  116.60000000000001\n"
          ]
        }
      ]
    },
    {
      "cell_type": "markdown",
      "source": [
        "#**TOPIC: String Based Questions**"
      ],
      "metadata": {
        "id": "u1MRP-DrkyQa"
      }
    },
    {
      "cell_type": "markdown",
      "source": [
        "#1. Write a Python program that takes a string as input and prints the length of the string."
      ],
      "metadata": {
        "id": "YpvDpTBAlYDp"
      }
    },
    {
      "cell_type": "code",
      "source": [
        "string = input(\"Enter any string value = \")\n",
        "print(\"total length of your string is = \",len(string))"
      ],
      "metadata": {
        "colab": {
          "base_uri": "https://localhost:8080/"
        },
        "id": "mHZgbdpUlcPP",
        "outputId": "cc81e705-335a-48ea-ec09-74107cc5c187"
      },
      "execution_count": 5,
      "outputs": [
        {
          "output_type": "stream",
          "name": "stdout",
          "text": [
            "Enter any string value = satyam kumar mishra\n",
            "total length of your string is =  19\n"
          ]
        }
      ]
    },
    {
      "cell_type": "markdown",
      "source": [
        "#2. Create a program that takes a sentence from the user and counts the number of vowels (a, e, i, o, u) in the string."
      ],
      "metadata": {
        "id": "TSmjCQdAl5h4"
      }
    },
    {
      "cell_type": "code",
      "source": [
        "sentence = input(\"please enter any string = \")\n",
        "vowel = \"aeiouAEIOU\"\n",
        "vowelcount =0\n",
        "for ch in sentence:\n",
        "  if ch in vowel:\n",
        "    vowelcount = vowelcount+1\n",
        "\n",
        "print(\"total no of vowels is\",vowelcount)"
      ],
      "metadata": {
        "colab": {
          "base_uri": "https://localhost:8080/"
        },
        "id": "WTl2DFX0l9g8",
        "outputId": "cbab79b5-b7ad-40c9-df70-8c8119e4f7ee"
      },
      "execution_count": 7,
      "outputs": [
        {
          "output_type": "stream",
          "name": "stdout",
          "text": [
            "please enter any string = I am a Python developer\n",
            "total no of vowels is 8\n"
          ]
        }
      ]
    },
    {
      "cell_type": "markdown",
      "source": [
        "#3. Given a string, reverse the order of characters using string slicing and print the reversed string."
      ],
      "metadata": {
        "id": "4QKOpUGDnxFY"
      }
    },
    {
      "cell_type": "code",
      "source": [
        "sentence = input(\"please enter any string = \")\n",
        "rev = sentence[::-1]\n",
        "print(rev)"
      ],
      "metadata": {
        "colab": {
          "base_uri": "https://localhost:8080/"
        },
        "id": "tSrJzaHgoAdh",
        "outputId": "45665b84-f6da-4f5f-cde3-24d4b223c33e"
      },
      "execution_count": 12,
      "outputs": [
        {
          "output_type": "stream",
          "name": "stdout",
          "text": [
            "please enter any string = satyam\n",
            "maytas\n"
          ]
        }
      ]
    },
    {
      "cell_type": "markdown",
      "source": [
        "#4. Write a program that takes a string as input and checks if it is a palindrome(reads the same forwards and backwards)."
      ],
      "metadata": {
        "id": "md2xxEVAqH99"
      }
    },
    {
      "cell_type": "code",
      "source": [
        "string = input(\"enter any string  =  \")\n",
        "rev = string[::-1]\n",
        "if string == rev:\n",
        "  print(\"palindrome\")\n",
        "else:\n",
        "  print(\"not palindrome \")"
      ],
      "metadata": {
        "colab": {
          "base_uri": "https://localhost:8080/"
        },
        "id": "EWx83xhxqLoX",
        "outputId": "812de494-b8ad-4a72-906a-4860c636dad1"
      },
      "execution_count": 14,
      "outputs": [
        {
          "output_type": "stream",
          "name": "stdout",
          "text": [
            "enter any string  =  mam\n",
            "palindrome\n"
          ]
        }
      ]
    },
    {
      "cell_type": "markdown",
      "source": [
        "#5. Create a program that takes a string as input and removes all the spaces from it. Print the modified string without spaces."
      ],
      "metadata": {
        "id": "RjO8ZyKiryWC"
      }
    },
    {
      "cell_type": "code",
      "source": [
        "string = input(\"enter any string \")\n",
        "without_space_string = string.replace(\" \",\"\")\n",
        "print(without_space_string)"
      ],
      "metadata": {
        "colab": {
          "base_uri": "https://localhost:8080/"
        },
        "id": "EAAVoZAMsD-n",
        "outputId": "4f6b0092-2053-4118-902d-e490f3bf8eec"
      },
      "execution_count": 15,
      "outputs": [
        {
          "output_type": "stream",
          "name": "stdout",
          "text": [
            "enter any string satyam kumar mishra\n",
            "satyamkumarmishra\n"
          ]
        }
      ]
    }
  ]
}